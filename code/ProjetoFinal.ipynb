{
 "cells": [
  {
   "cell_type": "markdown",
   "metadata": {},
   "source": [
    "# Análise de Cargos dos Candidatos nas Eleições 2024"
   ]
  },
  {
   "cell_type": "markdown",
   "metadata": {},
   "source": [
    "Este notebook apresenta um gráfico com o número de candidatos por cargo,\n",
    "utilizando os dados do Tribunal Superior Eleitoral (TSE) das eleições de 2024.\n",
    "\n",
    "A visualização é feita com `seaborn` e `matplotlib`, facilitando a análise da distribuição dos cargos em disputa."
   ]
  },
  {
   "cell_type": "code",
   "execution_count": null,
   "metadata": {},
   "outputs": [],
   "source": [
    "import pandas as pd\n",
    "import seaborn as sns\n",
    "import matplotlib.pyplot as plt"
   ]
  },
  {
   "cell_type": "markdown",
   "metadata": {},
   "source": [
    "## Carregamento dos Dados"
   ]
  },
  {
   "cell_type": "code",
   "execution_count": null,
   "metadata": {},
   "outputs": [],
   "source": [
    "# Substitua pelo caminho correto do seu arquivo CSV\n",
    "df = pd.read_csv(\"consulta_cand_2024_PR.csv\", sep=';', encoding='latin1')\n",
    "df.head()"
   ]
  },
  {
   "cell_type": "markdown",
   "metadata": {},
   "source": [
    "## Gráfico: Número de Candidatos por Cargo"
   ]
  },
  {
   "cell_type": "code",
   "execution_count": null,
   "metadata": {},
   "outputs": [],
   "source": [
    "cargo_counts = df['DS_CARGO'].value_counts()\n",
    "\n",
    "plt.figure(figsize=(10, 6))\n",
    "sns.countplot(data=df, y='DS_CARGO', order=cargo_counts.index, palette='viridis')\n",
    "plt.title(\"Número de candidatos por cargo\")\n",
    "plt.xlabel(\"Número de candidatos\")\n",
    "plt.ylabel(\"Cargo\")\n",
    "plt.tight_layout()\n",
    "plt.show()"
   ]
  }
 ],
 "metadata": {
  "kernelspec": {
   "display_name": "Python 3",
   "language": "python",
   "name": "python3"
  },
  "language_info": {
   "name": "python",
   "version": ""
  }
 },
 "nbformat": 4,
 "nbformat_minor": 2
}
